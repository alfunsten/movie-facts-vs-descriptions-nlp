{
 "cells": [
  {
   "cell_type": "markdown",
   "metadata": {},
   "source": [
    "## Data Cleaning and EDA"
   ]
  },
  {
   "cell_type": "code",
   "execution_count": 58,
   "metadata": {},
   "outputs": [],
   "source": [
    "import matplotlib.pyplot as plt \n",
    "import numpy as np\n",
    "import pandas as pd\n",
    "import seaborn as sns\n"
   ]
  },
  {
   "cell_type": "code",
   "execution_count": 59,
   "metadata": {},
   "outputs": [],
   "source": [
    "movie_details_df = pd.read_csv('./data/movie_details_df.csv')"
   ]
  },
  {
   "cell_type": "code",
   "execution_count": 60,
   "metadata": {},
   "outputs": [],
   "source": [
    "movie_finder_df = pd.read_csv('./data/movie_finder_df.csv')"
   ]
  },
  {
   "cell_type": "markdown",
   "metadata": {},
   "source": [
    "### Evaluating Missing Information"
   ]
  },
  {
   "cell_type": "markdown",
   "metadata": {},
   "source": [
    "I noticed many nan values for selftext and decided to replace nan values with an empty string and then combine the selftext column with title column to have more langauge data and not lose these rows.\n",
    "\n",
    "Many of the posts in selftext columns looks like spam with the caption:\n",
    "'🔴🔴 visite this Link to watch porn vidéos 👇👇' \n",
    "\n",
    "I will drop the rows/posts with the spam."
   ]
  },
  {
   "cell_type": "code",
   "execution_count": 61,
   "metadata": {},
   "outputs": [
    {
     "data": {
      "text/html": [
       "<div>\n",
       "<style scoped>\n",
       "    .dataframe tbody tr th:only-of-type {\n",
       "        vertical-align: middle;\n",
       "    }\n",
       "\n",
       "    .dataframe tbody tr th {\n",
       "        vertical-align: top;\n",
       "    }\n",
       "\n",
       "    .dataframe thead th {\n",
       "        text-align: right;\n",
       "    }\n",
       "</style>\n",
       "<table border=\"1\" class=\"dataframe\">\n",
       "  <thead>\n",
       "    <tr style=\"text-align: right;\">\n",
       "      <th></th>\n",
       "      <th>Unnamed: 0</th>\n",
       "      <th>subreddit</th>\n",
       "      <th>selftext</th>\n",
       "      <th>title</th>\n",
       "    </tr>\n",
       "  </thead>\n",
       "  <tbody>\n",
       "    <tr>\n",
       "      <th>0</th>\n",
       "      <td>0</td>\n",
       "      <td>MovieDetails</td>\n",
       "      <td>NaN</td>\n",
       "      <td>In Almost Famous (2000), Lester Bangs wears a ...</td>\n",
       "    </tr>\n",
       "    <tr>\n",
       "      <th>1</th>\n",
       "      <td>1</td>\n",
       "      <td>MovieDetails</td>\n",
       "      <td>&amp;amp;#x200B;\\n\\nhttps://preview.redd.it/sjy87p...</td>\n",
       "      <td>In Better Watch Out (2016) We see from the add...</td>\n",
       "    </tr>\n",
       "    <tr>\n",
       "      <th>2</th>\n",
       "      <td>2</td>\n",
       "      <td>MovieDetails</td>\n",
       "      <td>NaN</td>\n",
       "      <td>In The Mitchell’s VS The Machines (2021) a min...</td>\n",
       "    </tr>\n",
       "    <tr>\n",
       "      <th>3</th>\n",
       "      <td>3</td>\n",
       "      <td>MovieDetails</td>\n",
       "      <td>&amp;amp;#x200B;\\n\\nhttps://preview.redd.it/bki3t3...</td>\n",
       "      <td>In Better Watch Out (2016) We see from the add...</td>\n",
       "    </tr>\n",
       "    <tr>\n",
       "      <th>4</th>\n",
       "      <td>4</td>\n",
       "      <td>MovieDetails</td>\n",
       "      <td>NaN</td>\n",
       "      <td>🔴🔴 visite this Link to watch porn vidéos 👇👇</td>\n",
       "    </tr>\n",
       "    <tr>\n",
       "      <th>...</th>\n",
       "      <td>...</td>\n",
       "      <td>...</td>\n",
       "      <td>...</td>\n",
       "      <td>...</td>\n",
       "    </tr>\n",
       "    <tr>\n",
       "      <th>995</th>\n",
       "      <td>95</td>\n",
       "      <td>MovieDetails</td>\n",
       "      <td>NaN</td>\n",
       "      <td>In both Wall Street (1987) and the sequel Wall...</td>\n",
       "    </tr>\n",
       "    <tr>\n",
       "      <th>996</th>\n",
       "      <td>96</td>\n",
       "      <td>MovieDetails</td>\n",
       "      <td>NaN</td>\n",
       "      <td>Scarlett Johansson’s characters adore the same...</td>\n",
       "    </tr>\n",
       "    <tr>\n",
       "      <th>997</th>\n",
       "      <td>97</td>\n",
       "      <td>MovieDetails</td>\n",
       "      <td>NaN</td>\n",
       "      <td>Which Titan Won in Godzilla Vs Kong!?</td>\n",
       "    </tr>\n",
       "    <tr>\n",
       "      <th>998</th>\n",
       "      <td>98</td>\n",
       "      <td>MovieDetails</td>\n",
       "      <td>NaN</td>\n",
       "      <td>In The Life Aquatic with Steve Zissou (2004), ...</td>\n",
       "    </tr>\n",
       "    <tr>\n",
       "      <th>999</th>\n",
       "      <td>99</td>\n",
       "      <td>MovieDetails</td>\n",
       "      <td>NaN</td>\n",
       "      <td>In Toy Story 3 (2010), director Lee Unkrich vo...</td>\n",
       "    </tr>\n",
       "  </tbody>\n",
       "</table>\n",
       "<p>1000 rows × 4 columns</p>\n",
       "</div>"
      ],
      "text/plain": [
       "     Unnamed: 0     subreddit  \\\n",
       "0             0  MovieDetails   \n",
       "1             1  MovieDetails   \n",
       "2             2  MovieDetails   \n",
       "3             3  MovieDetails   \n",
       "4             4  MovieDetails   \n",
       "..          ...           ...   \n",
       "995          95  MovieDetails   \n",
       "996          96  MovieDetails   \n",
       "997          97  MovieDetails   \n",
       "998          98  MovieDetails   \n",
       "999          99  MovieDetails   \n",
       "\n",
       "                                              selftext  \\\n",
       "0                                                  NaN   \n",
       "1    &amp;#x200B;\\n\\nhttps://preview.redd.it/sjy87p...   \n",
       "2                                                  NaN   \n",
       "3    &amp;#x200B;\\n\\nhttps://preview.redd.it/bki3t3...   \n",
       "4                                                  NaN   \n",
       "..                                                 ...   \n",
       "995                                                NaN   \n",
       "996                                                NaN   \n",
       "997                                                NaN   \n",
       "998                                                NaN   \n",
       "999                                                NaN   \n",
       "\n",
       "                                                 title  \n",
       "0    In Almost Famous (2000), Lester Bangs wears a ...  \n",
       "1    In Better Watch Out (2016) We see from the add...  \n",
       "2    In The Mitchell’s VS The Machines (2021) a min...  \n",
       "3    In Better Watch Out (2016) We see from the add...  \n",
       "4          🔴🔴 visite this Link to watch porn vidéos 👇👇  \n",
       "..                                                 ...  \n",
       "995  In both Wall Street (1987) and the sequel Wall...  \n",
       "996  Scarlett Johansson’s characters adore the same...  \n",
       "997              Which Titan Won in Godzilla Vs Kong!?  \n",
       "998  In The Life Aquatic with Steve Zissou (2004), ...  \n",
       "999  In Toy Story 3 (2010), director Lee Unkrich vo...  \n",
       "\n",
       "[1000 rows x 4 columns]"
      ]
     },
     "execution_count": 61,
     "metadata": {},
     "output_type": "execute_result"
    }
   ],
   "source": [
    "movie_details_df "
   ]
  },
  {
   "cell_type": "code",
   "execution_count": 62,
   "metadata": {},
   "outputs": [
    {
     "name": "stdout",
     "output_type": "stream",
     "text": [
      "<class 'pandas.core.frame.DataFrame'>\n",
      "RangeIndex: 1000 entries, 0 to 999\n",
      "Data columns (total 4 columns):\n",
      " #   Column      Non-Null Count  Dtype \n",
      "---  ------      --------------  ----- \n",
      " 0   Unnamed: 0  1000 non-null   int64 \n",
      " 1   subreddit   1000 non-null   object\n",
      " 2   selftext    165 non-null    object\n",
      " 3   title       1000 non-null   object\n",
      "dtypes: int64(1), object(3)\n",
      "memory usage: 31.4+ KB\n"
     ]
    }
   ],
   "source": [
    "movie_details_df.info()"
   ]
  },
  {
   "cell_type": "code",
   "execution_count": null,
   "metadata": {
    "jupyter": {
     "source_hidden": true
    }
   },
   "outputs": [],
   "source": []
  },
  {
   "cell_type": "code",
   "execution_count": 63,
   "metadata": {},
   "outputs": [],
   "source": [
    "movie_details_df.drop(['Unnamed: 0','selftext'], axis =1, inplace = True)"
   ]
  },
  {
   "cell_type": "code",
   "execution_count": 64,
   "metadata": {},
   "outputs": [],
   "source": [
    "movie_details_df = movie_details_df[movie_details_df['title'] != '🔴🔴 visite this Link to watch porn vidéos 👇👇' ]"
   ]
  },
  {
   "cell_type": "code",
   "execution_count": 65,
   "metadata": {},
   "outputs": [],
   "source": [
    "movie_details_df = movie_details_df[movie_details_df['title'] != '🔴🔴 visite this Link to watch porn vidéos👇👇' ]"
   ]
  },
  {
   "cell_type": "code",
   "execution_count": 66,
   "metadata": {},
   "outputs": [
    {
     "data": {
      "text/plain": [
       "subreddit    0\n",
       "title        0\n",
       "dtype: int64"
      ]
     },
     "execution_count": 66,
     "metadata": {},
     "output_type": "execute_result"
    }
   ],
   "source": [
    "movie_details_df.isna().sum()"
   ]
  },
  {
   "cell_type": "code",
   "execution_count": 67,
   "metadata": {},
   "outputs": [
    {
     "data": {
      "text/html": [
       "<div>\n",
       "<style scoped>\n",
       "    .dataframe tbody tr th:only-of-type {\n",
       "        vertical-align: middle;\n",
       "    }\n",
       "\n",
       "    .dataframe tbody tr th {\n",
       "        vertical-align: top;\n",
       "    }\n",
       "\n",
       "    .dataframe thead th {\n",
       "        text-align: right;\n",
       "    }\n",
       "</style>\n",
       "<table border=\"1\" class=\"dataframe\">\n",
       "  <thead>\n",
       "    <tr style=\"text-align: right;\">\n",
       "      <th></th>\n",
       "      <th>Unnamed: 0</th>\n",
       "      <th>subreddit</th>\n",
       "      <th>selftext</th>\n",
       "      <th>title</th>\n",
       "    </tr>\n",
       "  </thead>\n",
       "  <tbody>\n",
       "    <tr>\n",
       "      <th>0</th>\n",
       "      <td>0</td>\n",
       "      <td>moviefinder</td>\n",
       "      <td>Cannot find [this flick](https://www.imdb.com/...</td>\n",
       "      <td>Scoumoune (1972)</td>\n",
       "    </tr>\n",
       "    <tr>\n",
       "      <th>1</th>\n",
       "      <td>1</td>\n",
       "      <td>moviefinder</td>\n",
       "      <td>I remember watching the land before time as a ...</td>\n",
       "      <td>I know it exists somewhere</td>\n",
       "    </tr>\n",
       "    <tr>\n",
       "      <th>2</th>\n",
       "      <td>2</td>\n",
       "      <td>moviefinder</td>\n",
       "      <td>NaN</td>\n",
       "      <td>Any ideas what this is from?</td>\n",
       "    </tr>\n",
       "    <tr>\n",
       "      <th>3</th>\n",
       "      <td>3</td>\n",
       "      <td>moviefinder</td>\n",
       "      <td>Family on a secret really show where people vo...</td>\n",
       "      <td>Family is on a secret reality show (kids/famil...</td>\n",
       "    </tr>\n",
       "    <tr>\n",
       "      <th>4</th>\n",
       "      <td>4</td>\n",
       "      <td>moviefinder</td>\n",
       "      <td>I remember an animated movie about forest anim...</td>\n",
       "      <td>Pls help me remember my childhood</td>\n",
       "    </tr>\n",
       "    <tr>\n",
       "      <th>5</th>\n",
       "      <td>5</td>\n",
       "      <td>moviefinder</td>\n",
       "      <td>American movie. By southern house I mean somet...</td>\n",
       "      <td>Two kids (like 11 y.o.) are trying to get a ba...</td>\n",
       "    </tr>\n",
       "    <tr>\n",
       "      <th>6</th>\n",
       "      <td>6</td>\n",
       "      <td>moviefinder</td>\n",
       "      <td>It was about this white kid that wants to be a...</td>\n",
       "      <td>Movie about aspiring DJ named DJ Ghost</td>\n",
       "    </tr>\n",
       "    <tr>\n",
       "      <th>7</th>\n",
       "      <td>7</td>\n",
       "      <td>moviefinder</td>\n",
       "      <td>I watched this movie on Netflix between 2014-2...</td>\n",
       "      <td>This Movie is Out There... Somewhere?</td>\n",
       "    </tr>\n",
       "    <tr>\n",
       "      <th>8</th>\n",
       "      <td>8</td>\n",
       "      <td>moviefinder</td>\n",
       "      <td>Does anyone know the name of this movie? There...</td>\n",
       "      <td>AI/human/robot movie? This woman was an amazin...</td>\n",
       "    </tr>\n",
       "    <tr>\n",
       "      <th>9</th>\n",
       "      <td>9</td>\n",
       "      <td>moviefinder</td>\n",
       "      <td>I watch this til tok video about this movie an...</td>\n",
       "      <td>I need help</td>\n",
       "    </tr>\n",
       "    <tr>\n",
       "      <th>10</th>\n",
       "      <td>10</td>\n",
       "      <td>moviefinder</td>\n",
       "      <td>It was dubbed in english, and the only scene i...</td>\n",
       "      <td>Vampire/demon movie, rented around the early 2...</td>\n",
       "    </tr>\n",
       "    <tr>\n",
       "      <th>11</th>\n",
       "      <td>11</td>\n",
       "      <td>moviefinder</td>\n",
       "      <td>I watched this movie when I was 9-13 maybe. I ...</td>\n",
       "      <td>I want to find a weird movie that I remember.</td>\n",
       "    </tr>\n",
       "    <tr>\n",
       "      <th>12</th>\n",
       "      <td>12</td>\n",
       "      <td>moviefinder</td>\n",
       "      <td>I went to the bus stop today with my boyfriend...</td>\n",
       "      <td>A Young Love movie I had never seen but now I ...</td>\n",
       "    </tr>\n",
       "    <tr>\n",
       "      <th>13</th>\n",
       "      <td>13</td>\n",
       "      <td>moviefinder</td>\n",
       "      <td>I can’t remember the name of the movie but the...</td>\n",
       "      <td>What movie is this?</td>\n",
       "    </tr>\n",
       "    <tr>\n",
       "      <th>14</th>\n",
       "      <td>14</td>\n",
       "      <td>moviefinder</td>\n",
       "      <td>I believe it was an animated movie, some of th...</td>\n",
       "      <td>Help, this was ages ago but still</td>\n",
       "    </tr>\n",
       "  </tbody>\n",
       "</table>\n",
       "</div>"
      ],
      "text/plain": [
       "    Unnamed: 0    subreddit  \\\n",
       "0            0  moviefinder   \n",
       "1            1  moviefinder   \n",
       "2            2  moviefinder   \n",
       "3            3  moviefinder   \n",
       "4            4  moviefinder   \n",
       "5            5  moviefinder   \n",
       "6            6  moviefinder   \n",
       "7            7  moviefinder   \n",
       "8            8  moviefinder   \n",
       "9            9  moviefinder   \n",
       "10          10  moviefinder   \n",
       "11          11  moviefinder   \n",
       "12          12  moviefinder   \n",
       "13          13  moviefinder   \n",
       "14          14  moviefinder   \n",
       "\n",
       "                                             selftext  \\\n",
       "0   Cannot find [this flick](https://www.imdb.com/...   \n",
       "1   I remember watching the land before time as a ...   \n",
       "2                                                 NaN   \n",
       "3   Family on a secret really show where people vo...   \n",
       "4   I remember an animated movie about forest anim...   \n",
       "5   American movie. By southern house I mean somet...   \n",
       "6   It was about this white kid that wants to be a...   \n",
       "7   I watched this movie on Netflix between 2014-2...   \n",
       "8   Does anyone know the name of this movie? There...   \n",
       "9   I watch this til tok video about this movie an...   \n",
       "10  It was dubbed in english, and the only scene i...   \n",
       "11  I watched this movie when I was 9-13 maybe. I ...   \n",
       "12  I went to the bus stop today with my boyfriend...   \n",
       "13  I can’t remember the name of the movie but the...   \n",
       "14  I believe it was an animated movie, some of th...   \n",
       "\n",
       "                                                title  \n",
       "0                                    Scoumoune (1972)  \n",
       "1                          I know it exists somewhere  \n",
       "2                        Any ideas what this is from?  \n",
       "3   Family is on a secret reality show (kids/famil...  \n",
       "4                   Pls help me remember my childhood  \n",
       "5   Two kids (like 11 y.o.) are trying to get a ba...  \n",
       "6              Movie about aspiring DJ named DJ Ghost  \n",
       "7               This Movie is Out There... Somewhere?  \n",
       "8   AI/human/robot movie? This woman was an amazin...  \n",
       "9                                         I need help  \n",
       "10  Vampire/demon movie, rented around the early 2...  \n",
       "11      I want to find a weird movie that I remember.  \n",
       "12  A Young Love movie I had never seen but now I ...  \n",
       "13                                What movie is this?  \n",
       "14                  Help, this was ages ago but still  "
      ]
     },
     "execution_count": 67,
     "metadata": {},
     "output_type": "execute_result"
    }
   ],
   "source": [
    "movie_finder_df.head(15) \n",
    "# will add selftext information to title to add more information for the model "
   ]
  },
  {
   "cell_type": "code",
   "execution_count": 68,
   "metadata": {},
   "outputs": [],
   "source": [
    "movie_finder_df['selftext'] = movie_finder_df['selftext'].replace(np.nan, '')"
   ]
  },
  {
   "cell_type": "code",
   "execution_count": 69,
   "metadata": {},
   "outputs": [],
   "source": [
    "movie_finder_df['title'] = movie_finder_df['title'] + movie_finder_df['selftext']"
   ]
  },
  {
   "cell_type": "code",
   "execution_count": 70,
   "metadata": {},
   "outputs": [],
   "source": [
    "movie_finder_df.drop(['selftext', 'Unnamed: 0'], axis = 1, inplace = True)"
   ]
  },
  {
   "cell_type": "code",
   "execution_count": 71,
   "metadata": {},
   "outputs": [
    {
     "data": {
      "text/plain": [
       "subreddit    0\n",
       "title        0\n",
       "dtype: int64"
      ]
     },
     "execution_count": 71,
     "metadata": {},
     "output_type": "execute_result"
    }
   ],
   "source": [
    "movie_finder_df.isna().sum()"
   ]
  },
  {
   "cell_type": "markdown",
   "metadata": {},
   "source": [
    "### Combine all Data "
   ]
  },
  {
   "cell_type": "markdown",
   "metadata": {},
   "source": [
    "Below I will combine both subreddit dataframes into one large data drame and then make the subreddit column binary to do classification modeling"
   ]
  },
  {
   "cell_type": "code",
   "execution_count": 72,
   "metadata": {},
   "outputs": [],
   "source": [
    "full_movie_data = pd.concat([movie_finder_df, movie_details_df])"
   ]
  },
  {
   "cell_type": "code",
   "execution_count": 73,
   "metadata": {},
   "outputs": [
    {
     "name": "stdout",
     "output_type": "stream",
     "text": [
      "<class 'pandas.core.frame.DataFrame'>\n",
      "Int64Index: 1982 entries, 0 to 999\n",
      "Data columns (total 2 columns):\n",
      " #   Column     Non-Null Count  Dtype \n",
      "---  ------     --------------  ----- \n",
      " 0   subreddit  1982 non-null   object\n",
      " 1   title      1982 non-null   object\n",
      "dtypes: object(2)\n",
      "memory usage: 46.5+ KB\n"
     ]
    }
   ],
   "source": [
    "full_movie_data.info()"
   ]
  },
  {
   "cell_type": "code",
   "execution_count": 74,
   "metadata": {},
   "outputs": [
    {
     "data": {
      "text/html": [
       "<div>\n",
       "<style scoped>\n",
       "    .dataframe tbody tr th:only-of-type {\n",
       "        vertical-align: middle;\n",
       "    }\n",
       "\n",
       "    .dataframe tbody tr th {\n",
       "        vertical-align: top;\n",
       "    }\n",
       "\n",
       "    .dataframe thead th {\n",
       "        text-align: right;\n",
       "    }\n",
       "</style>\n",
       "<table border=\"1\" class=\"dataframe\">\n",
       "  <thead>\n",
       "    <tr style=\"text-align: right;\">\n",
       "      <th></th>\n",
       "      <th>subreddit</th>\n",
       "      <th>title</th>\n",
       "    </tr>\n",
       "  </thead>\n",
       "  <tbody>\n",
       "    <tr>\n",
       "      <th>0</th>\n",
       "      <td>moviefinder</td>\n",
       "      <td>Scoumoune (1972)Cannot find [this flick](https...</td>\n",
       "    </tr>\n",
       "    <tr>\n",
       "      <th>1</th>\n",
       "      <td>moviefinder</td>\n",
       "      <td>I know it exists somewhereI remember watching ...</td>\n",
       "    </tr>\n",
       "    <tr>\n",
       "      <th>2</th>\n",
       "      <td>moviefinder</td>\n",
       "      <td>Any ideas what this is from?</td>\n",
       "    </tr>\n",
       "    <tr>\n",
       "      <th>3</th>\n",
       "      <td>moviefinder</td>\n",
       "      <td>Family is on a secret reality show (kids/famil...</td>\n",
       "    </tr>\n",
       "    <tr>\n",
       "      <th>4</th>\n",
       "      <td>moviefinder</td>\n",
       "      <td>Pls help me remember my childhoodI remember an...</td>\n",
       "    </tr>\n",
       "  </tbody>\n",
       "</table>\n",
       "</div>"
      ],
      "text/plain": [
       "     subreddit                                              title\n",
       "0  moviefinder  Scoumoune (1972)Cannot find [this flick](https...\n",
       "1  moviefinder  I know it exists somewhereI remember watching ...\n",
       "2  moviefinder                       Any ideas what this is from?\n",
       "3  moviefinder  Family is on a secret reality show (kids/famil...\n",
       "4  moviefinder  Pls help me remember my childhoodI remember an..."
      ]
     },
     "execution_count": 74,
     "metadata": {},
     "output_type": "execute_result"
    }
   ],
   "source": [
    "full_movie_data.head()"
   ]
  },
  {
   "cell_type": "code",
   "execution_count": 75,
   "metadata": {},
   "outputs": [
    {
     "data": {
      "text/plain": [
       "(1982, 2)"
      ]
     },
     "execution_count": 75,
     "metadata": {},
     "output_type": "execute_result"
    }
   ],
   "source": [
    "full_movie_data.shape"
   ]
  },
  {
   "cell_type": "code",
   "execution_count": 76,
   "metadata": {},
   "outputs": [
    {
     "data": {
      "text/plain": [
       "subreddit    0\n",
       "title        0\n",
       "dtype: int64"
      ]
     },
     "execution_count": 76,
     "metadata": {},
     "output_type": "execute_result"
    }
   ],
   "source": [
    "full_movie_data.isna().sum()"
   ]
  },
  {
   "cell_type": "code",
   "execution_count": 77,
   "metadata": {},
   "outputs": [
    {
     "data": {
      "text/plain": [
       "moviefinder     1000\n",
       "MovieDetails     982\n",
       "Name: subreddit, dtype: int64"
      ]
     },
     "execution_count": 77,
     "metadata": {},
     "output_type": "execute_result"
    }
   ],
   "source": [
    "full_movie_data['subreddit'].value_counts()"
   ]
  },
  {
   "cell_type": "code",
   "execution_count": 78,
   "metadata": {},
   "outputs": [],
   "source": [
    "full_movie_data['subreddit'] = np.where(full_movie_data.subreddit == 'moviefinder', 1, 0)"
   ]
  },
  {
   "cell_type": "code",
   "execution_count": 79,
   "metadata": {},
   "outputs": [
    {
     "data": {
      "text/plain": [
       "1    1000\n",
       "0     982\n",
       "Name: subreddit, dtype: int64"
      ]
     },
     "execution_count": 79,
     "metadata": {},
     "output_type": "execute_result"
    }
   ],
   "source": [
    "full_movie_data['subreddit'].value_counts()"
   ]
  },
  {
   "cell_type": "markdown",
   "metadata": {},
   "source": [
    "### Key for subreddits: \n",
    "#### moviefinder = 1\n",
    "#### MovieDetails = 0"
   ]
  },
  {
   "cell_type": "markdown",
   "metadata": {},
   "source": [
    "### EDA"
   ]
  },
  {
   "cell_type": "markdown",
   "metadata": {},
   "source": [
    "Will create a post length column and evaluate the post length in comparison to each subreddit and the amount of posts per subreddit"
   ]
  },
  {
   "cell_type": "code",
   "execution_count": 80,
   "metadata": {},
   "outputs": [
    {
     "data": {
      "text/html": [
       "<div>\n",
       "<style scoped>\n",
       "    .dataframe tbody tr th:only-of-type {\n",
       "        vertical-align: middle;\n",
       "    }\n",
       "\n",
       "    .dataframe tbody tr th {\n",
       "        vertical-align: top;\n",
       "    }\n",
       "\n",
       "    .dataframe thead th {\n",
       "        text-align: right;\n",
       "    }\n",
       "</style>\n",
       "<table border=\"1\" class=\"dataframe\">\n",
       "  <thead>\n",
       "    <tr style=\"text-align: right;\">\n",
       "      <th></th>\n",
       "      <th>subreddit</th>\n",
       "      <th>title</th>\n",
       "    </tr>\n",
       "  </thead>\n",
       "  <tbody>\n",
       "    <tr>\n",
       "      <th>0</th>\n",
       "      <td>1</td>\n",
       "      <td>Scoumoune (1972)Cannot find [this flick](https...</td>\n",
       "    </tr>\n",
       "    <tr>\n",
       "      <th>1</th>\n",
       "      <td>1</td>\n",
       "      <td>I know it exists somewhereI remember watching ...</td>\n",
       "    </tr>\n",
       "    <tr>\n",
       "      <th>2</th>\n",
       "      <td>1</td>\n",
       "      <td>Any ideas what this is from?</td>\n",
       "    </tr>\n",
       "    <tr>\n",
       "      <th>3</th>\n",
       "      <td>1</td>\n",
       "      <td>Family is on a secret reality show (kids/famil...</td>\n",
       "    </tr>\n",
       "    <tr>\n",
       "      <th>4</th>\n",
       "      <td>1</td>\n",
       "      <td>Pls help me remember my childhoodI remember an...</td>\n",
       "    </tr>\n",
       "  </tbody>\n",
       "</table>\n",
       "</div>"
      ],
      "text/plain": [
       "   subreddit                                              title\n",
       "0          1  Scoumoune (1972)Cannot find [this flick](https...\n",
       "1          1  I know it exists somewhereI remember watching ...\n",
       "2          1                       Any ideas what this is from?\n",
       "3          1  Family is on a secret reality show (kids/famil...\n",
       "4          1  Pls help me remember my childhoodI remember an..."
      ]
     },
     "execution_count": 80,
     "metadata": {},
     "output_type": "execute_result"
    }
   ],
   "source": [
    "full_movie_data.head()"
   ]
  },
  {
   "cell_type": "code",
   "execution_count": 81,
   "metadata": {},
   "outputs": [],
   "source": [
    "full_movie_data['post_length'] = full_movie_data['title'].str.len()"
   ]
  },
  {
   "cell_type": "code",
   "execution_count": 82,
   "metadata": {},
   "outputs": [
    {
     "data": {
      "image/png": "[encoded data removed]",
      "text/plain": [
       "<Figure size 432x288 with 1 Axes>"
      ]
     },
     "metadata": {
      "needs_background": "light"
     },
     "output_type": "display_data"
    }
   ],
   "source": [
    "plt.title('Distribution of Post Count per Subreddit')\n",
    "plt.xlabel('Post Length')\n",
    "sns.histplot(x = 'post_length', hue = 'subreddit', data = full_movie_data);"
   ]
  },
  {
   "cell_type": "markdown",
   "metadata": {},
   "source": [
    "Movie finder subreddit in comparison to movie details subreddit has longer posts with more words. This is likely because movie facts are short descriptions while move finder is using longer descriptions to try to identify movies. "
   ]
  },
  {
   "cell_type": "code",
   "execution_count": 83,
   "metadata": {},
   "outputs": [
    {
     "data": {
      "image/png": "[encoded data removed]",
      "text/plain": [
       "<Figure size 432x288 with 1 Axes>"
      ]
     },
     "metadata": {
      "needs_background": "light"
     },
     "output_type": "display_data"
    }
   ],
   "source": [
    "plt.title('Number of Posts per Subreddit')\n",
    "sns.countplot(x = 'subreddit',data = full_movie_data);"
   ]
  },
  {
   "cell_type": "markdown",
   "metadata": {},
   "source": [
    "About equal posts per subreddit which will be good for our modeling. No need to get more data and do not need to use a balanced accuracy score."
   ]
  },
  {
   "cell_type": "code",
   "execution_count": 85,
   "metadata": {},
   "outputs": [
    {
     "name": "stdout",
     "output_type": "stream",
     "text": [
      "<class 'pandas.core.frame.DataFrame'>\n",
      "Int64Index: 1982 entries, 0 to 999\n",
      "Data columns (total 3 columns):\n",
      " #   Column       Non-Null Count  Dtype \n",
      "---  ------       --------------  ----- \n",
      " 0   subreddit    1982 non-null   int64 \n",
      " 1   title        1982 non-null   object\n",
      " 2   post_length  1982 non-null   int64 \n",
      "dtypes: int64(2), object(1)\n",
      "memory usage: 101.9+ KB\n"
     ]
    }
   ],
   "source": [
    "full_movie_data.info()"
   ]
  },
  {
   "cell_type": "code",
   "execution_count": 84,
   "metadata": {},
   "outputs": [],
   "source": [
    "full_movie_data.to_csv('./data/full_movie_data_clean.csv')"
   ]
  }
 ],
 "metadata": {
  "kernelspec": {
   "display_name": "Python 3",
   "language": "python",
   "name": "python3"
  },
  "language_info": {
   "codemirror_mode": {
    "name": "ipython",
    "version": 3
   },
   "file_extension": ".py",
   "mimetype": "text/x-python",
   "name": "python",
   "nbconvert_exporter": "python",
   "pygments_lexer": "ipython3",
   "version": "3.8.5"
  }
 },
 "nbformat": 4,
 "nbformat_minor": 4
}
